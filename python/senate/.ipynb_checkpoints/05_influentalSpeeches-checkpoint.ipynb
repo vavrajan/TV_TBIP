{
 "cells": [
  {
   "cell_type": "code",
   "execution_count": 1,
   "metadata": {
    "executionInfo": {
     "elapsed": 719,
     "status": "ok",
     "timestamp": 1664198370984,
     "user": {
      "displayName": "paul hofmarcher",
      "userId": "12977868574614852692"
     },
     "user_tz": -120
    },
    "id": "_dwbbUEbK8bD"
   },
   "outputs": [],
   "source": [
    "## ist ein versuch die wichtigsten Reden der senatpren zu bekommen funkt nicht wirklich\n",
    "\n",
    "import os\n",
    "import numpy as np\n",
    "import sys\n",
    "import pandas as pd\n",
    "from scipy import sparse\n",
    "from sklearn.feature_extraction.text import CountVectorizer\n",
    "from collections import Counter\n",
    "from collections import defaultdict"
   ]
  },
  {
   "cell_type": "code",
   "execution_count": 2,
   "metadata": {
    "executionInfo": {
     "elapsed": 1060,
     "status": "ok",
     "timestamp": 1664198374941,
     "user": {
      "displayName": "paul hofmarcher",
      "userId": "12977868574614852692"
     },
     "user_tz": -120
    },
    "id": "4TgmhiFDTcQY"
   },
   "outputs": [],
   "source": [
    "py_file = '/content/gdrive/My Drive/tbip_BSP/code/' \n",
    "sys.path.append(os.path.abspath(py_file))\n",
    "import analysis_utils as utils"
   ]
  },
  {
   "cell_type": "code",
   "execution_count": 3,
   "metadata": {
    "executionInfo": {
     "elapsed": 274,
     "status": "ok",
     "timestamp": 1664198376732,
     "user": {
      "displayName": "paul hofmarcher",
      "userId": "12977868574614852692"
     },
     "user_tz": -120
    },
    "id": "0gJs5Nq3KdhO"
   },
   "outputs": [
    {
     "data": {
      "text/plain": [
       "'/Users/paulhofmarcher/Google Drive/tbip_BSP/data_without_quoting3/107/output300000'"
      ]
     },
     "execution_count": 3,
     "metadata": {},
     "output_type": "execute_result"
    }
   ],
   "source": [
    "#to be changed as needed\n",
    "data_dir = '/Users/paulhofmarcher/Google Drive/tbip_BSP/data_without_quoting3/107/'\n",
    "speech_dir = './raw_speeches/' \n",
    "param_dir = '/Users/paulhofmarcher/Google Drive/tbip_BSP/data_without_quoting3/107/output300000'\n",
    "output = 'output300000' \n",
    "\n",
    "param_dir"
   ]
  },
  {
   "cell_type": "code",
   "execution_count": 6,
   "metadata": {
    "executionInfo": {
     "elapsed": 6499,
     "status": "ok",
     "timestamp": 1664198385016,
     "user": {
      "displayName": "paul hofmarcher",
      "userId": "12977868574614852692"
     },
     "user_tz": -120
    },
    "id": "I9qt8myhhbJS"
   },
   "outputs": [
    {
     "name": "stderr",
     "output_type": "stream",
     "text": [
      "b'Skipping line 46425: expected 2 fields, saw 3\\nSkipping line 47528: expected 2 fields, saw 3\\n'\n"
     ]
    }
   ],
   "source": [
    "## this codejunk is only to create raw_documents.txt\n",
    "\n",
    "min_speeches = 24\n",
    "#minimum number of senators using a bigram\n",
    "#default value 10\n",
    "min_authors_per_word = 10\n",
    "\n",
    "#parameters for count vectorizer\n",
    "min_df = 0.001 #minimum document frequency\n",
    "max_df = 0.3 #maximum document frequency\n",
    "ngram_range = (2, 2) #bigrams only\n",
    "token_pattern = \"[a-zA-Z]+\" \n",
    "\n",
    "\n",
    "\n",
    "#predefined set of stopwords\n",
    "stopwords = set(\n",
    "        np.loadtxt(os.path.join(speech_dir, \n",
    "                                \"stopwords.txt\"),\n",
    "                   dtype=str,\n",
    "                   delimiter=\"\\n\")) #to be changed approrpriately wherever stopwords are stored\n",
    "\n",
    "#parameters for count vectorizer\n",
    "min_df = 0.001 #minimum document frequency\n",
    "max_df = 0.3 #maximum document frequency\n",
    "stop_words = stopwords\n",
    "vocab = pd.read_csv('/Users/paulhofmarcher/Documents/svn/baR/Projects/Congress_Speeches/data_180322/vocabulary.txt', header = None) #path to complete vocabulary\n",
    "vocabulary = vocab[0].tolist() #vocabulary as a list\n",
    "\n",
    "\n",
    "\n",
    "i =107\n",
    "\n",
    "speeches = pd.read_csv(os.path.join(speech_dir, 'speeches_' + str(i) + '.txt'), \n",
    "                               encoding=\"ISO-8859-1\", \n",
    "                               sep=\"|\", on_bad_lines='warn')\n",
    "description = pd.read_csv(os.path.join(speech_dir, 'descr_' + str(i) + '.txt'), \n",
    "                                  encoding=\"ISO-8859-1\", \n",
    "                                  sep=\"|\")\n",
    "speaker_map = pd.read_csv(os.path.join(speech_dir, str(i) + '_SpeakerMap.txt'), \n",
    "                                  encoding=\"ISO-8859-1\", \n",
    "                                  sep=\"|\")\n",
    "\n",
    "merged_df = speeches.merge(description, \n",
    "                               left_on='speech_id', \n",
    "                               right_on='speech_id')\n",
    "df = merged_df.merge(speaker_map, left_on='speech_id', right_on='speech_id')\n",
    "    \n",
    "    # Only look at senate speeches.\n",
    "    #to select speakers with speeches in the senate (includes Senators and House Reps)\n",
    "senate_df = df[df['chamber_x'] == 'S']\n",
    "    #to select ONLY Senators uncomment the next line\n",
    "    #senate_df = df[df['chamber_y'] == 'S'] ##  here 7.2\n",
    "speaker = np.array(\n",
    "        [' '.join([first, last]) for first, last in \n",
    "         list(zip(np.array(senate_df['firstname']), \n",
    "                  np.array(senate_df['lastname'])))])\n",
    "speeches = np.array(senate_df['speech'])\n",
    "party = np.array(senate_df['party'])\n",
    " # Remove senators who make less than 24 speeches\n",
    "unique_speaker, speaker_counts = np.unique(speaker, return_counts=True)\n",
    "absent_speakers = unique_speaker[np.where(speaker_counts < min_speeches)]\n",
    "absent_speaker_inds = [ind for ind, x in enumerate(speaker) \n",
    "                           if x in absent_speakers]\n",
    "speaker = np.delete(speaker, absent_speaker_inds)\n",
    "speeches = np.delete(speeches, absent_speaker_inds)\n",
    "\n",
    "party = np.delete(party, absent_speaker_inds)\n",
    "speaker_party = np.array(\n",
    "        [speaker[i] + \" (\" + party[i] + \")\" for i in range(len(speaker))])\n",
    "\n",
    "    # Create mapping between names and IDs.\n",
    "speaker_to_speaker_id = dict(\n",
    "        [(y.title(), x) for x, y in enumerate(sorted(set(speaker_party)))])\n",
    "author_indices = np.array(\n",
    "        [speaker_to_speaker_id[s.title()] for s in speaker_party])\n",
    "author_map = np.array(list(speaker_to_speaker_id.keys()))\n",
    "\n",
    "#count_vectorizer = CountVectorizer(min_df,\n",
    "     #                                  max_df, \n",
    "      #                                 stop_words, \n",
    "       #                                ngram_range,\n",
    "        #                               token_pattern)\n",
    "\n",
    "#counts = count_vectorizer.fit_transform(speeches.astype(str))\n",
    "\n",
    "# Fit final document-term matrix with complete vocabulary.\n",
    "# count_vectorizer = CountVectorizer(ngram_range=(2, 2),\n",
    "#                                        vocabulary = vocabulary)\n",
    "# counts = count_vectorizer.fit_transform(speeches.astype(str))\n",
    "\n",
    " \n",
    "# print(speeches.shape)\n",
    "# print(speeches[1000])\n",
    "# s2 = speeches.tolist()\n",
    "# print(s2[1000])\n",
    "# print(len(s2))\n",
    "\n",
    "\n",
    "\n",
    "# file = open(os.path.join(data_dir, \"input/raw_documents.txt\"), \"w\")\n",
    "# for element in s2:\n",
    "#     file.write(element + \"\\n\")\n",
    "# file.close()"
   ]
  },
  {
   "cell_type": "code",
   "execution_count": 7,
   "metadata": {},
   "outputs": [],
   "source": [
    "## create DTM\n",
    "count_vectorizer = CountVectorizer(ngram_range=(2, 2),                                       vocabulary = vocabulary)\n",
    "s2 = speeches.tolist()\n",
    "counts = count_vectorizer.fit_transform(s2)\n"
   ]
  },
  {
   "cell_type": "code",
   "execution_count": 9,
   "metadata": {},
   "outputs": [
    {
     "name": "stdout",
     "output_type": "stream",
     "text": [
      "[    0     1     2 ... 30888 30889 30890]\n"
     ]
    }
   ],
   "source": [
    "#Remove speeches with no words.\n",
    "existing_speeches = np.where(np.sum(counts, axis=1) > 0)[0]\n",
    "\n",
    "summe =counts.sum(axis=1)\n",
    "print(existing_speeches)\n",
    "counts = counts[existing_speeches]\n",
    "speeches2 = np.array(s2)[existing_speeches]\n",
    "speeches2.shape\n",
    "\n",
    "file = open(os.path.join(data_dir, \"input/raw_documents.txt\"), \"w\")\n",
    "for element in speeches2:\n",
    "    file.write(element + \"\\n\")\n",
    "file.close()\n"
   ]
  },
  {
   "cell_type": "code",
   "execution_count": 10,
   "metadata": {},
   "outputs": [],
   "source": [
    "summe=np.where(counts.sum(axis=1) == 0)[0]\n",
    "summe= counts.sum(axis=1)\n"
   ]
  },
  {
   "cell_type": "code",
   "execution_count": 11,
   "metadata": {
    "id": "6wTNzZuOVzBz"
   },
   "outputs": [],
   "source": [
    "# Load TBIP data.\n",
    "data_dir2 = os.path.join(data_dir, \"input\")\n",
    "(counts, vocabulary, author_indices, \n",
    " author_map, raw_documents) = utils.load_text_data(data_dir2)\n",
    "\n",
    "\n",
    "# Load TBIP parameters.\n",
    "document_mean = np.load(\n",
    "      os.path.join(param_dir, \"document_topic_mean.npy\" )) \n",
    "objective_topic_loc = np.load(\n",
    "      os.path.join(param_dir, \"objective_topic_loc.npy\"))\n",
    "objective_topic_scale = np.load(\n",
    "      os.path.join(param_dir, \"objective_topic_scale.npy\"))\n",
    "ideological_topic_loc = np.load(\n",
    "      os.path.join(param_dir, \"ideological_topic_loc.npy\"))\n",
    "ideological_topic_scale = np.load(\n",
    "      os.path.join(param_dir, \"ideological_topic_scale.npy\"))\n",
    "ideal_point_mean = np.load(\n",
    "      os.path.join(param_dir, \"ideal_point_mean.npy\"))\n",
    "\n",
    "\n",
    "objective_topic_mean = np.exp(objective_topic_loc + \n",
    "                              objective_topic_scale ** 2 / 2)\n",
    "\n",
    "ideological_topic_mean = ideological_topic_loc\n"
   ]
  },
  {
   "cell_type": "code",
   "execution_count": 12,
   "metadata": {},
   "outputs": [
    {
     "data": {
      "text/plain": [
       "(30891,)"
      ]
     },
     "execution_count": 12,
     "metadata": {},
     "output_type": "execute_result"
    }
   ],
   "source": [
    "raw_documents.shape"
   ]
  },
  {
   "cell_type": "code",
   "execution_count": 13,
   "metadata": {
    "id": "kADFdv1UtfAY"
   },
   "outputs": [
    {
     "ename": "NameError",
     "evalue": "name 'ideological_topic_mean' is not defined",
     "output_type": "error",
     "traceback": [
      "\u001b[0;31m---------------------------------------------------------------------------\u001b[0m",
      "\u001b[0;31mNameError\u001b[0m                                 Traceback (most recent call last)",
      "\u001b[0;32m/var/folders/0h/g_7_xr013s1chv7sy0r05cwr0000gn/T/ipykernel_76652/2299842255.py\u001b[0m in \u001b[0;36m<module>\u001b[0;34m\u001b[0m\n\u001b[1;32m     10\u001b[0m     \u001b[0mdocument_mean\u001b[0m\u001b[0;34m,\u001b[0m\u001b[0;34m\u001b[0m\u001b[0;34m\u001b[0m\u001b[0m\n\u001b[1;32m     11\u001b[0m     \u001b[0mobjective_topic_mean\u001b[0m\u001b[0;34m,\u001b[0m\u001b[0;34m\u001b[0m\u001b[0;34m\u001b[0m\u001b[0m\n\u001b[0;32m---> 12\u001b[0;31m     \u001b[0mideological_topic_mean\u001b[0m\u001b[0;34m,\u001b[0m\u001b[0;34m\u001b[0m\u001b[0;34m\u001b[0m\u001b[0m\n\u001b[0m\u001b[1;32m     13\u001b[0m     \u001b[0mverbosity_weights\u001b[0m\u001b[0;34m,\u001b[0m\u001b[0;34m\u001b[0m\u001b[0;34m\u001b[0m\u001b[0m\n\u001b[1;32m     14\u001b[0m     \u001b[0mnull_ideal_point\u001b[0m\u001b[0;34m=\u001b[0m\u001b[0;36m0.\u001b[0m\u001b[0;34m,\u001b[0m\u001b[0;34m\u001b[0m\u001b[0;34m\u001b[0m\u001b[0m\n",
      "\u001b[0;31mNameError\u001b[0m: name 'ideological_topic_mean' is not defined"
     ]
    }
   ],
   "source": [
    "# Find influential speeches for Bernie Sanders' ideal point.\n",
    "verbosity_weights = utils.get_verbosity_weights(counts, author_indices)\n",
    "smith_top_indices, smith_top_words = utils.compute_likelihood_ratio(\n",
    "    \"Gordon Smith (R)\",\n",
    "    ideal_point_mean,\n",
    "    counts,\n",
    "    vocabulary,\n",
    "    author_indices,\n",
    "    author_map,\n",
    "    document_mean,\n",
    "    objective_topic_mean,\n",
    "    ideological_topic_mean,\n",
    "    verbosity_weights,\n",
    "    null_ideal_point=0.,\n",
    "    log_counts=True)\n",
    "smith_top_speeches = speeches2[smith_top_indices]"
   ]
  },
  {
   "cell_type": "code",
   "execution_count": 7,
   "metadata": {},
   "outputs": [
    {
     "data": {
      "text/plain": [
       "(33591,)"
      ]
     },
     "execution_count": 7,
     "metadata": {},
     "output_type": "execute_result"
    }
   ],
   "source": [
    "author_indices.shape"
   ]
  },
  {
   "cell_type": "code",
   "execution_count": 109,
   "metadata": {},
   "outputs": [
    {
     "data": {
      "text/plain": [
       "array([  862, 23458, 23457, 23376, 23358, 23106, 22915, 22197, 22141,\n",
       "       22127])"
      ]
     },
     "execution_count": 109,
     "metadata": {},
     "output_type": "execute_result"
    }
   ],
   "source": [
    "smith_top_indices"
   ]
  },
  {
   "cell_type": "code",
   "execution_count": 114,
   "metadata": {},
   "outputs": [
    {
     "data": {
      "text/plain": [
       "'Mr. President. I thank my colleagues. Is the amendment agreed to?'"
      ]
     },
     "execution_count": 114,
     "metadata": {},
     "output_type": "execute_result"
    }
   ],
   "source": [
    "speeches2[22127]"
   ]
  },
  {
   "cell_type": "code",
   "execution_count": 135,
   "metadata": {},
   "outputs": [
    {
     "data": {
      "text/plain": [
       "array(['Mr. President. first I wish to extend my Welcome and congratulations to all of the newly elected Senators. We look forward to working with you in a bipartisan way for the best interests of our country. I know that we have a few of our retiring Senators here and we want to wish them a fond adieu and the very best in the future. Senator JOHNSTON there from Louisiana needs to be careful. he might change his mind and raise his hand and try to get sworn in again. This is a magnificent occasion. and it is an honor to serve as the majority leader in this great body and to work with my friend. Senator DASCHLE. from South Dakota.',\n",
       "       'Mr. President. today marks the 105th time since 1789 that newly elected Senators have stood before this bodys Presiding Officer at the start of a new Congress to pledge their support for the Constitution of the United States. I would like to take advantage of this special event in the life of each new Congress to comment briefly about the origins of the oath we take. There is a good deal of confusion about the oath and its origin. Some believe that the Constitution prescribes its specific text and that all Senators since 1789 have taken and signed the oath in the form that we know today. Neither is true. While the Constitution specifies a separate oath for the President. it leaves to Congress the responsibility of preparing an oath for its Members and all other Federal officeholders. The Oath Act of June 1. 1789. was the first legislation passed by the Senate and the first law signed by President George Washington. It prescribed the following simple oath: \"I - do solemnly swear (or affirm) that I will support the Constitution of the United States.\" On June 4. 1789. Senate President John Adams administered that new oath to all Senators. setting a pattern that future Presiding Officers followed. without controversy. for the next 74 years. The outbreak of the War Between the States quickly transformed the act of oathtaking. which had become a routine procedure after 1789. into one of enormous significance. At a time ofuncertain and shifting loyalties. President Abraham Lincoln ordered all Federal civilian personnel to retake the prewar oath of allegiance. When Congress convened for a brief emergency session in the summer of 1861. Members supplemented the Presidents action by passing a law requiring civil officers to take an expanded oath in support of the Union. Although Congress did not then apply this August 1861 oath to its own Members. its text is the earliest direct predecessor of the oath we take today. When Congress returned for its regulax session in December 1861. Members who believed that the Union had more to fear from northern traitors than from southern soldiers fundamentally revised the August 1861 statute in July 1862 by adding an \"Ironclad Test Oath\" provision. This warinspired test oath required civil servants and military offlcers to swear not only to future loyalty. as required by the existing oaths. but also to affirm that they had never previously supported hostilities against the United States. Those whofailed to take the 1862 test oath would not receive a salary. those who swore falsely would be prosecuted for perjury and forever denied Federal employment. The 1862 oaths second section incorporated a more polished and graceful rendering of the hastily drafted 1861 oath in language that is identical to the oath we take today.. Early in 1864. the Senate adopted a rule specifying that all newly elected Members must not only orally agree to the test oath. but also \"subscribe\" to it by signing a printed copy. This condition reflected a wartime practice in which military and civilian authorities required anyone wishing to do business with the Federal Government to sign a copy of the test oath. The requirement included Confederate prisoners of war seeking parole and southerners who wished to be reimbursed for goods confiscated by foraging Union troops. Our modern practice of signing the oath comes from this period. At the end of the war in 1865. the test oath stood as a formidable barrier to President Andrew Johnsons moderate reconstruction policies. designed to allow residents of the South to participate in their own government. While the President pushed for a rapid reintegration of Southern States. those in Congress who wished to impose a harsh peace insisted on the test oath. which had been created in part to prevent exConfederates from taking Federal positions. Many of the oaths drafters specifically had in mind blocking the return of one of my direct Senate predecessorsJefferson Davis. The Constitutions 14th amendment. ratified in 1868. permitted Congress to remove barriers to service by former Confederates through a twothirds vote of both Houses. Congress then enacted an oath for those in this category. allowing them to ignore the test oaths first section. regarding past loyalties. and subscribe only to its second section pledging future allegiance. That 1868 oath is identical to the one we take today. As postwar tensions eased. Congress in 1871 dropped the requirement for a twothirds vote of both Houses for former Confederates entering congressional service or government employment. For another 13 years. however. all oath takers who were not former Confederates were required to take the full test oath. In 1877. to further complicate matters. the Senate amended its rules to require that Senators take not only the 1862 or the 1868 oath. but also the original oath of 1789. Reflecting the confusion surrounding these multiple requirements. the Senates archives contain no signed oaths foe the years between 1871 and 1880. From 1880 until 1884. nearly 20 years after the wars conclusion. newly elected southern Senators who had participated in that conflict signed the 1868 oath. while all the others signed the 1862 test oath. On January 11. 1884. as part of a general revision of its rules. the Senate replaced specific references to the rules of 1862 and 1868 with the simple statement that is now Rule III of our Standing Rules: \"The oaths or affirmations required by the Constitution and prescribed by law shall be taken and sub.scribed by each Senator. in open Senate. before entering upon his duties.\" Seven weeks later. bringing to a close nearly a quarter century of confusion and acrimony. the Senate repealed the 1862 test oath. From that day to this. the high solemn oath \"prescribed by law\" has been the oath of 1868.',\n",
       "       'Mr. President. before the Chair presents the certification of election for the swearing in to begin. I would like to take a moment to speak about the seating of one of our new colleagues who will be sworn in within the next few minutes. I am referring to the seating of Senatorelect LANDRIEU. The Senate has received petitions from the citizens of the State of Louisiana contesting the election of Senatorelect',\n",
       "       ...,\n",
       "       'Yes. I would like to continue if I can then. and if there is any message that I might be able to -deliver on behalf of the distinguished Senator from Florida. who probably knows more about research into areas involving cancer than many of us in this body. I would be happy to deliver it for him. I say to the distinguished Senator. I do not want to yield the floor and lose the floor because it is my intention to slow down Senate consideration today in this rushed manner in hopes that we will be able to send it to committee. have a hearing and follow the normal deliberative process. including sending it back to the Senate soon for thoughtful consideration.',\n",
       "       'I wonder if I might--',\n",
       "       'I am afraid to yield the floor because I may well lose the floor and not get it back again. So I will continue. if I may. Mr.. President. just yesterday. Dr. J. Benjamin Younger. the Executive Director of the American Society For Reproductive Medicine. wrote: \"I urge you and your colleagues to carefully consider any human cloning legislation and to proceed through the proper legislative channels so that a sloppily drafted bill does not get passed and sentence millions of Americans to needless suffering. Mr. President. once again. I say we should not charge ahead at full throttle on a bill that legislates issues as profound as those surrounding human cloning. There is simply too much at stake. I would like to give you just a quick sidebyside cQmparison of the two bills under consideration that ban cloning. BondFrist and FeinsteinKennedy. FeinsteinKennedy. as I have said. bans the implantation of the product of somatic cell nuclear transfer into a womans uterus. It makes unlawful the shipping of the product of somatic cell nuclear transfer in interstate or foreign commerce for the purpose of implanting into a womans uterus. And it prohibits the use of Federal funds for implanting the product of somatic cell nuclear transfer into a womans uterus. I recognize that is current in the fiscal year 1998 appropriations law. but we reinforce it in our bill. The Bond bill. as I understand it. bans human somatic cell nuclear transfer period. It is defined as taking the nuclear material of a human somatic cell and incorporating it into an oocyte from which the nucleus has been removed or rendered inert and producing an embryo. including a preimplantation embryo. Again. it defines none of these terms. And it makes unlawful the importation of an embryo produced through human somatic cell nuclear transfer technology. It is silent on the use of Federal funds. probably because the authors know that a prohibition on human embryo research is already in place. The length of the ban in our bill is 10 years. It is a permanent ban in the Bond bill. The reason it is a temporary ban or a moratorium of 10 years is largely because a voluntary moratorium has been put in place by the entire American scientific community. and to the best of my knowledge. what they were requesting a 5year moratorium which the Presidents bill contained. We felt the 5year moratorium was too short. We prefer the longer period so that it can be reviewed at the end of 10 years. The FeinsteinKennedy bill protects and allows biomedical and agricultural research on practices which are not expressly prohibited. That would include research or practices involving somatic cell nuclear transfer or cloning technologies. mitochondrial. cytoplasmic or gene therapy or somatic cell nuclear transfer to create animals. We do not interfere with that. The Bond bill protects or allows areas of scientific research not specifically prohibited. It is silent on mitochondrial. cytoplasmic or gene therapy. And that is part of our problem here. and that is one of the reasons why we think it needs to go to committee and we need to know at the end of the hearing exactly what it is we are doing. On the issue of a national commission. FeinsteinKennedy authorizes the current National Bioethics Advisory Commission for 10 years. from the date of enactment. The current commission terminates in 1999. Our would continue it and we require reports and recommendations from the commission in 4 years and in 92 years. The Bond bill would establish a new national commission to promote a national dialogue on bioethics of 25 members appointed by the Senate and House majority and minority leadership by December 1. 1998. to conduct a discourse on bioethical issues. including cloning. and to report to Congress by December 31. 1999 and annually thereafter. On the issue of penalties. the FeinsteinKennedy bill has a civil penalty of $1 million or three times the gross pecuniary gain or loss resulting from the violation. in other words. a very stringent civil penalty. If an individual uses somatic cell nuclear transfer and implants the product into a womans uterus. we subject that individual to forfeiture of any property derived from or used to commit a violation or attempted violation. This would get at the lab or hospital where an implantation into a human uterus would take place. Obviously. it has to be done somewhere. and I think this is in a sense a failsafe major penalty because that entire lab could be forfeited. The Bond bill has 10 years in prison or a civil penalty if pecuniary gain is derived of not more than twice the gross gain or both. We think 10 years in prison. when definitions are not included to clearly show what we are talking about. 10 years in prison for someone who might use somatic cell nuclear transfer to create the DNA in a cell that could produce a skin graft or another tissue culture. a skin graft that would heal a burn patient. that that individual should not be subject to 10 years in prison. On the issue of preemption. there is a difference between the two bills as well. FeinsteinKennedy preempts any State or local law that prohibits or restricts research or practices constituting somatic cell nuclear transfer. mitochondrial or cytoplasmic therapy or the cloning of molecules. DNA cells. tissues. organs. plants. animals or humans. So. we would set a national standard so that the States could not pass legislation and say its OK to insert a somatic cell in a womans uterus. We preempt the area. Internationally. there are some differences in the two bills. too. FeinsteinKennedy has a sense of the Congress that the President should cooperate with foreign countries to enforce mutually supported restrictions. The Bond bill. has a sense of the Congress that the Federal Government should advocate for and join an international effort to prohibit the use of human somatic cell nuclear transfer technology to produce a human embryo. I think we could easily come to agreement on many of these. particularly this last one. I think we want the same thing. The major difference is that the FeinsteinKennedy bill would allow the technology to proceed in medical research as long as it does not involve human cloning. Mr. President. the successful cloning of a sheep-'],\n",
       "      dtype='<U83216')"
      ]
     },
     "execution_count": 135,
     "metadata": {},
     "output_type": "execute_result"
    }
   ],
   "source": [
    "speeches2"
   ]
  },
  {
   "cell_type": "code",
   "execution_count": 136,
   "metadata": {},
   "outputs": [
    {
     "data": {
      "text/plain": [
       "(33591,)"
      ]
     },
     "execution_count": 136,
     "metadata": {},
     "output_type": "execute_result"
    }
   ],
   "source": [
    "speeches2.shape"
   ]
  },
  {
   "cell_type": "code",
   "execution_count": 137,
   "metadata": {},
   "outputs": [
    {
     "data": {
      "text/plain": [
       "array(['Alfonse Damato (R)', 'Arlen Specter (R)', 'Barbara Boxer (D)',\n",
       "       'Barbara Mikulski (D)', 'Ben Campbell (R)', 'Bob Graham (D)',\n",
       "       'Byron Dorgan (D)', 'Carl Levin (D)', 'Carol Moseley Braun (D)',\n",
       "       'Charles Grassley (R)', 'Charles Hagel (R)', 'Charles Robb (D)',\n",
       "       'Christopher Bond (R)', 'Christopher Dodd (D)', 'Connie Mack (R)',\n",
       "       'Conrad Burns (R)', 'Craig Thomas (R)', 'Dale Bumpers (D)',\n",
       "       'Daniel Akaka (D)', 'Daniel Coats (R)', 'Daniel Inouye (D)',\n",
       "       'Daniel Moynihan (D)', 'Dianne Feinstein (D)',\n",
       "       'Dirk Kempthorne (R)', 'Don Nickles (R)', 'Duncan Faircloth (R)',\n",
       "       'Edward Kennedy (D)', 'Ernest Hollings (D)',\n",
       "       'Frank Lautenberg (D)', 'Frank Murkowski (R)', 'Fred Thompson (R)',\n",
       "       'Gordon Smith (R)', 'Harry Reid (D)', 'Herbert Kohl (D)',\n",
       "       'J. Cleland (D)', 'J. Kerrey (D)', 'J. Thurmond (R)',\n",
       "       'James Inhofe (R)', 'James Jeffords (R)', 'Jeff Bingaman (D)',\n",
       "       'Jefferson Sessions (R)', 'Jesse Helms (R)', 'John Ashcroft (R)',\n",
       "       'John Breaux (D)', 'John Chafee (R)', 'John Glenn (D)',\n",
       "       'John Kerry (D)', 'John Mccain (R)', 'John Reed (D)',\n",
       "       'John Rockefeller (D)', 'John Warner (R)', 'Jon Kyl (R)',\n",
       "       'Joseph Biden (D)', 'Joseph Lieberman (D)', 'Judd Gregg (R)',\n",
       "       'Kay Hutchison (R)', 'Kent Conrad (D)', 'Larry Craig (R)',\n",
       "       'Mary Landrieu (D)', 'Max Baucus (D)', 'Michael Dewine (R)',\n",
       "       'Michael Enzi (R)', 'Mitch Mcconnell (R)', 'Olympia Snowe (R)',\n",
       "       'Orrin Hatch (R)', 'Pat Roberts (R)', 'Patrick Leahy (D)',\n",
       "       'Patty Murray (D)', 'Paul Coverdell (R)', 'Paul Sarbanes (D)',\n",
       "       'Paul Wellstone (D)', 'Pete Domenici (R)', 'Phil Gramm (R)',\n",
       "       'Richard Bryan (D)', 'Richard Durbin (D)', 'Richard Lugar (R)',\n",
       "       'Richard Santorum (R)', 'Richard Shelby (R)', 'Robert Bennett (R)',\n",
       "       'Robert Byrd (D)', 'Robert Smith (R)', 'Robert Torricelli (D)',\n",
       "       'Rod Grams (R)', 'Ron Wyden (D)', 'Russell Feingold (D)',\n",
       "       'Samuel Brownback (R)', 'Spencer Abraham (R)', 'Susan Collins (R)',\n",
       "       'T. Gorton (R)', 'Ted Stevens (R)', 'Thad Cochran (R)',\n",
       "       'Thomas Daschle (D)', 'Thomas Harkin (D)', 'Tim Hutchinson (R)',\n",
       "       'Tim Johnson (D)', 'Trent Lott (R)', 'Wayne Allard (R)',\n",
       "       'Wendell Ford (D)', 'William Frist (R)', 'William Roth (R)'],\n",
       "      dtype='<U23')"
      ]
     },
     "execution_count": 137,
     "metadata": {},
     "output_type": "execute_result"
    }
   ],
   "source": [
    "author_map"
   ]
  },
  {
   "cell_type": "code",
   "execution_count": 141,
   "metadata": {},
   "outputs": [],
   "source": [
    "author_index = np.where(author_map == 'Gordon Smith (R)')[0][0]\n",
    "author_documents = np.where(author_indices == author_index)[0]"
   ]
  },
  {
   "cell_type": "code",
   "execution_count": 142,
   "metadata": {},
   "outputs": [
    {
     "data": {
      "text/plain": [
       "31"
      ]
     },
     "execution_count": 142,
     "metadata": {},
     "output_type": "execute_result"
    }
   ],
   "source": [
    "author_index"
   ]
  },
  {
   "cell_type": "code",
   "execution_count": 144,
   "metadata": {},
   "outputs": [
    {
     "data": {
      "text/plain": [
       "'Gordon Smith (R)'"
      ]
     },
     "execution_count": 144,
     "metadata": {},
     "output_type": "execute_result"
    }
   ],
   "source": [
    "author_map[31]"
   ]
  },
  {
   "cell_type": "code",
   "execution_count": 145,
   "metadata": {},
   "outputs": [
    {
     "data": {
      "text/plain": [
       "array([  862,  1493,  2838,  2922,  3541,  4003,  5664,  5731,  6005,\n",
       "        6007,  6014,  6535,  6777,  6952,  7537,  7633,  9064,  9655,\n",
       "        9816, 10003, 10171, 10587, 10932, 11354, 12553, 12915, 13021,\n",
       "       13133, 13737, 14143, 14319, 14859, 16046, 16058, 16059, 16137,\n",
       "       16145, 16400, 16962, 16965, 17357, 17707, 17981, 19464, 19686,\n",
       "       19775, 20465, 20471, 20472, 20534, 20625, 21300, 21839, 21897,\n",
       "       21899, 21918, 21920, 21953, 21969, 21999, 22000, 22001, 22002,\n",
       "       22003, 22044, 22045, 22047, 22065, 22082, 22105, 22106, 22107,\n",
       "       22108, 22127, 22141, 22197, 22915, 23106, 23358, 23376, 23457,\n",
       "       23458, 23503, 23546, 23739, 24217, 24270, 24444, 24500, 24946,\n",
       "       24948, 24949, 25133, 26034, 26272, 26357, 26878, 26928, 27041,\n",
       "       28122, 28284, 28448, 28724, 29201, 29796, 29797, 29798, 30556,\n",
       "       31233, 31278, 32267, 32900, 33452])"
      ]
     },
     "execution_count": 145,
     "metadata": {},
     "output_type": "execute_result"
    }
   ],
   "source": [
    "author_documents"
   ]
  },
  {
   "cell_type": "code",
   "execution_count": 146,
   "metadata": {},
   "outputs": [
    {
     "data": {
      "text/plain": [
       "'Madam President. I ask unanimous consent that the order for the quorum call be rescinded.'"
      ]
     },
     "execution_count": 146,
     "metadata": {},
     "output_type": "execute_result"
    }
   ],
   "source": [
    "speeches2[862]"
   ]
  },
  {
   "cell_type": "code",
   "execution_count": 147,
   "metadata": {},
   "outputs": [
    {
     "data": {
      "text/plain": [
       "'Mr. President. I ask unanimous consent that the reading of the amendment be dispensed with.'"
      ]
     },
     "execution_count": 147,
     "metadata": {},
     "output_type": "execute_result"
    }
   ],
   "source": [
    "speeches2[1493]"
   ]
  },
  {
   "cell_type": "code",
   "execution_count": 148,
   "metadata": {},
   "outputs": [
    {
     "data": {
      "text/plain": [
       "'Mr. President. I suggest the absence of a quorum.'"
      ]
     },
     "execution_count": 148,
     "metadata": {},
     "output_type": "execute_result"
    }
   ],
   "source": [
    "speeches2[2838]"
   ]
  },
  {
   "cell_type": "code",
   "execution_count": 149,
   "metadata": {},
   "outputs": [
    {
     "data": {
      "text/plain": [
       "'I thank the Chair. (The remarks of Mr. DODD. Mr. KERREY. and Mr. BINGAMAN pertaining to the introduction of S. 1610 are located in todays RECORD under \"Statements on Introduced Bills and Joint Resolutions.\")'"
      ]
     },
     "execution_count": 149,
     "metadata": {},
     "output_type": "execute_result"
    }
   ],
   "source": [
    "speeches2[33452]\n"
   ]
  },
  {
   "cell_type": "code",
   "execution_count": 151,
   "metadata": {},
   "outputs": [
    {
     "data": {
      "text/html": [
       "<div>\n",
       "<style scoped>\n",
       "    .dataframe tbody tr th:only-of-type {\n",
       "        vertical-align: middle;\n",
       "    }\n",
       "\n",
       "    .dataframe tbody tr th {\n",
       "        vertical-align: top;\n",
       "    }\n",
       "\n",
       "    .dataframe thead th {\n",
       "        text-align: right;\n",
       "    }\n",
       "</style>\n",
       "<table border=\"1\" class=\"dataframe\">\n",
       "  <thead>\n",
       "    <tr style=\"text-align: right;\">\n",
       "      <th></th>\n",
       "      <th>speech_id</th>\n",
       "      <th>speech</th>\n",
       "      <th>chamber_x</th>\n",
       "      <th>date</th>\n",
       "      <th>number_within_file</th>\n",
       "      <th>speaker</th>\n",
       "      <th>first_name</th>\n",
       "      <th>last_name</th>\n",
       "      <th>state_x</th>\n",
       "      <th>gender_x</th>\n",
       "      <th>...</th>\n",
       "      <th>word_count</th>\n",
       "      <th>speakerid</th>\n",
       "      <th>lastname</th>\n",
       "      <th>firstname</th>\n",
       "      <th>chamber_y</th>\n",
       "      <th>state_y</th>\n",
       "      <th>gender_y</th>\n",
       "      <th>party</th>\n",
       "      <th>district</th>\n",
       "      <th>nonvoting</th>\n",
       "    </tr>\n",
       "  </thead>\n",
       "  <tbody>\n",
       "    <tr>\n",
       "      <th>0</th>\n",
       "      <td>1050000003</td>\n",
       "      <td>Mr. President. first I wish to extend my Welco...</td>\n",
       "      <td>S</td>\n",
       "      <td>19970107</td>\n",
       "      <td>3</td>\n",
       "      <td>Mr. LOTT</td>\n",
       "      <td>Unknown</td>\n",
       "      <td>LOTT</td>\n",
       "      <td>Unknown</td>\n",
       "      <td>M</td>\n",
       "      <td>...</td>\n",
       "      <td>120</td>\n",
       "      <td>105115011</td>\n",
       "      <td>LOTT</td>\n",
       "      <td>TRENT</td>\n",
       "      <td>S</td>\n",
       "      <td>MS</td>\n",
       "      <td>M</td>\n",
       "      <td>R</td>\n",
       "      <td>NaN</td>\n",
       "      <td>voting</td>\n",
       "    </tr>\n",
       "    <tr>\n",
       "      <th>1</th>\n",
       "      <td>1050000004</td>\n",
       "      <td>Mr. President. today marks the 105th time sinc...</td>\n",
       "      <td>S</td>\n",
       "      <td>19970107</td>\n",
       "      <td>4</td>\n",
       "      <td>Mr. LOTT</td>\n",
       "      <td>Unknown</td>\n",
       "      <td>LOTT</td>\n",
       "      <td>Unknown</td>\n",
       "      <td>M</td>\n",
       "      <td>...</td>\n",
       "      <td>961</td>\n",
       "      <td>105115011</td>\n",
       "      <td>LOTT</td>\n",
       "      <td>TRENT</td>\n",
       "      <td>S</td>\n",
       "      <td>MS</td>\n",
       "      <td>M</td>\n",
       "      <td>R</td>\n",
       "      <td>NaN</td>\n",
       "      <td>voting</td>\n",
       "    </tr>\n",
       "    <tr>\n",
       "      <th>2</th>\n",
       "      <td>1050000005</td>\n",
       "      <td>Mr. President. before the Chair presents the c...</td>\n",
       "      <td>S</td>\n",
       "      <td>19970107</td>\n",
       "      <td>5</td>\n",
       "      <td>Mr. LOTT</td>\n",
       "      <td>Unknown</td>\n",
       "      <td>LOTT</td>\n",
       "      <td>Unknown</td>\n",
       "      <td>M</td>\n",
       "      <td>...</td>\n",
       "      <td>71</td>\n",
       "      <td>105115011</td>\n",
       "      <td>LOTT</td>\n",
       "      <td>TRENT</td>\n",
       "      <td>S</td>\n",
       "      <td>MS</td>\n",
       "      <td>M</td>\n",
       "      <td>R</td>\n",
       "      <td>NaN</td>\n",
       "      <td>voting</td>\n",
       "    </tr>\n",
       "    <tr>\n",
       "      <th>3</th>\n",
       "      <td>1050000007</td>\n",
       "      <td>Mr. President. let me begin by thanking the di...</td>\n",
       "      <td>S</td>\n",
       "      <td>19970107</td>\n",
       "      <td>7</td>\n",
       "      <td>Mr. DASCHLE</td>\n",
       "      <td>Unknown</td>\n",
       "      <td>DASCHLE</td>\n",
       "      <td>Unknown</td>\n",
       "      <td>M</td>\n",
       "      <td>...</td>\n",
       "      <td>177</td>\n",
       "      <td>105112401</td>\n",
       "      <td>DASCHLE</td>\n",
       "      <td>THOMAS</td>\n",
       "      <td>S</td>\n",
       "      <td>SD</td>\n",
       "      <td>M</td>\n",
       "      <td>D</td>\n",
       "      <td>NaN</td>\n",
       "      <td>voting</td>\n",
       "    </tr>\n",
       "    <tr>\n",
       "      <th>4</th>\n",
       "      <td>1050000008</td>\n",
       "      <td>Mr. President. I think we are ready to proceed.</td>\n",
       "      <td>S</td>\n",
       "      <td>19970107</td>\n",
       "      <td>8</td>\n",
       "      <td>Mr. LOTT</td>\n",
       "      <td>Unknown</td>\n",
       "      <td>LOTT</td>\n",
       "      <td>Unknown</td>\n",
       "      <td>M</td>\n",
       "      <td>...</td>\n",
       "      <td>9</td>\n",
       "      <td>105115011</td>\n",
       "      <td>LOTT</td>\n",
       "      <td>TRENT</td>\n",
       "      <td>S</td>\n",
       "      <td>MS</td>\n",
       "      <td>M</td>\n",
       "      <td>R</td>\n",
       "      <td>NaN</td>\n",
       "      <td>voting</td>\n",
       "    </tr>\n",
       "    <tr>\n",
       "      <th>...</th>\n",
       "      <td>...</td>\n",
       "      <td>...</td>\n",
       "      <td>...</td>\n",
       "      <td>...</td>\n",
       "      <td>...</td>\n",
       "      <td>...</td>\n",
       "      <td>...</td>\n",
       "      <td>...</td>\n",
       "      <td>...</td>\n",
       "      <td>...</td>\n",
       "      <td>...</td>\n",
       "      <td>...</td>\n",
       "      <td>...</td>\n",
       "      <td>...</td>\n",
       "      <td>...</td>\n",
       "      <td>...</td>\n",
       "      <td>...</td>\n",
       "      <td>...</td>\n",
       "      <td>...</td>\n",
       "      <td>...</td>\n",
       "      <td>...</td>\n",
       "    </tr>\n",
       "    <tr>\n",
       "      <th>139772</th>\n",
       "      <td>1050207468</td>\n",
       "      <td>Mr. President. I ask unanimous consent that th...</td>\n",
       "      <td>S</td>\n",
       "      <td>19981021</td>\n",
       "      <td>504</td>\n",
       "      <td>Mr. DEWINE</td>\n",
       "      <td>Unknown</td>\n",
       "      <td>DEWINE</td>\n",
       "      <td>Unknown</td>\n",
       "      <td>M</td>\n",
       "      <td>...</td>\n",
       "      <td>44</td>\n",
       "      <td>105112971</td>\n",
       "      <td>DEWINE</td>\n",
       "      <td>MICHAEL</td>\n",
       "      <td>S</td>\n",
       "      <td>OH</td>\n",
       "      <td>M</td>\n",
       "      <td>R</td>\n",
       "      <td>NaN</td>\n",
       "      <td>voting</td>\n",
       "    </tr>\n",
       "    <tr>\n",
       "      <th>139773</th>\n",
       "      <td>1050207469</td>\n",
       "      <td>Mr. President. I ask unanimous consent that th...</td>\n",
       "      <td>S</td>\n",
       "      <td>19981021</td>\n",
       "      <td>505</td>\n",
       "      <td>Mr. DEWINE</td>\n",
       "      <td>Unknown</td>\n",
       "      <td>DEWINE</td>\n",
       "      <td>Unknown</td>\n",
       "      <td>M</td>\n",
       "      <td>...</td>\n",
       "      <td>22</td>\n",
       "      <td>105112971</td>\n",
       "      <td>DEWINE</td>\n",
       "      <td>MICHAEL</td>\n",
       "      <td>S</td>\n",
       "      <td>OH</td>\n",
       "      <td>M</td>\n",
       "      <td>R</td>\n",
       "      <td>NaN</td>\n",
       "      <td>voting</td>\n",
       "    </tr>\n",
       "    <tr>\n",
       "      <th>139774</th>\n",
       "      <td>1050207471</td>\n",
       "      <td>Mr. President. I am very pleased at the Senate...</td>\n",
       "      <td>S</td>\n",
       "      <td>19981021</td>\n",
       "      <td>507</td>\n",
       "      <td>Mr. DOMENICI</td>\n",
       "      <td>Unknown</td>\n",
       "      <td>DOMENICI</td>\n",
       "      <td>Unknown</td>\n",
       "      <td>M</td>\n",
       "      <td>...</td>\n",
       "      <td>628</td>\n",
       "      <td>105113601</td>\n",
       "      <td>DOMENICI</td>\n",
       "      <td>PETE</td>\n",
       "      <td>S</td>\n",
       "      <td>NM</td>\n",
       "      <td>M</td>\n",
       "      <td>R</td>\n",
       "      <td>NaN</td>\n",
       "      <td>voting</td>\n",
       "    </tr>\n",
       "    <tr>\n",
       "      <th>139775</th>\n",
       "      <td>1050207472</td>\n",
       "      <td>Again. on behalf of the majority leader. I und...</td>\n",
       "      <td>S</td>\n",
       "      <td>19981021</td>\n",
       "      <td>508</td>\n",
       "      <td>Mr. DEWINE</td>\n",
       "      <td>Unknown</td>\n",
       "      <td>DEWINE</td>\n",
       "      <td>Unknown</td>\n",
       "      <td>M</td>\n",
       "      <td>...</td>\n",
       "      <td>176</td>\n",
       "      <td>105112971</td>\n",
       "      <td>DEWINE</td>\n",
       "      <td>MICHAEL</td>\n",
       "      <td>S</td>\n",
       "      <td>OH</td>\n",
       "      <td>M</td>\n",
       "      <td>R</td>\n",
       "      <td>NaN</td>\n",
       "      <td>voting</td>\n",
       "    </tr>\n",
       "    <tr>\n",
       "      <th>139776</th>\n",
       "      <td>1050207473</td>\n",
       "      <td>Mr. President. I now ask unanimous consent tha...</td>\n",
       "      <td>S</td>\n",
       "      <td>19981021</td>\n",
       "      <td>509</td>\n",
       "      <td>Mr. DEWINE</td>\n",
       "      <td>Unknown</td>\n",
       "      <td>DEWINE</td>\n",
       "      <td>Unknown</td>\n",
       "      <td>M</td>\n",
       "      <td>...</td>\n",
       "      <td>22</td>\n",
       "      <td>105112971</td>\n",
       "      <td>DEWINE</td>\n",
       "      <td>MICHAEL</td>\n",
       "      <td>S</td>\n",
       "      <td>OH</td>\n",
       "      <td>M</td>\n",
       "      <td>R</td>\n",
       "      <td>NaN</td>\n",
       "      <td>voting</td>\n",
       "    </tr>\n",
       "  </tbody>\n",
       "</table>\n",
       "<p>66512 rows × 24 columns</p>\n",
       "</div>"
      ],
      "text/plain": [
       "         speech_id                                             speech  \\\n",
       "0       1050000003  Mr. President. first I wish to extend my Welco...   \n",
       "1       1050000004  Mr. President. today marks the 105th time sinc...   \n",
       "2       1050000005  Mr. President. before the Chair presents the c...   \n",
       "3       1050000007  Mr. President. let me begin by thanking the di...   \n",
       "4       1050000008    Mr. President. I think we are ready to proceed.   \n",
       "...            ...                                                ...   \n",
       "139772  1050207468  Mr. President. I ask unanimous consent that th...   \n",
       "139773  1050207469  Mr. President. I ask unanimous consent that th...   \n",
       "139774  1050207471  Mr. President. I am very pleased at the Senate...   \n",
       "139775  1050207472  Again. on behalf of the majority leader. I und...   \n",
       "139776  1050207473  Mr. President. I now ask unanimous consent tha...   \n",
       "\n",
       "       chamber_x      date  number_within_file       speaker first_name  \\\n",
       "0              S  19970107                   3      Mr. LOTT    Unknown   \n",
       "1              S  19970107                   4      Mr. LOTT    Unknown   \n",
       "2              S  19970107                   5      Mr. LOTT    Unknown   \n",
       "3              S  19970107                   7   Mr. DASCHLE    Unknown   \n",
       "4              S  19970107                   8      Mr. LOTT    Unknown   \n",
       "...          ...       ...                 ...           ...        ...   \n",
       "139772         S  19981021                 504    Mr. DEWINE    Unknown   \n",
       "139773         S  19981021                 505    Mr. DEWINE    Unknown   \n",
       "139774         S  19981021                 507  Mr. DOMENICI    Unknown   \n",
       "139775         S  19981021                 508    Mr. DEWINE    Unknown   \n",
       "139776         S  19981021                 509    Mr. DEWINE    Unknown   \n",
       "\n",
       "       last_name  state_x gender_x  ...  word_count  speakerid  lastname  \\\n",
       "0           LOTT  Unknown        M  ...         120  105115011      LOTT   \n",
       "1           LOTT  Unknown        M  ...         961  105115011      LOTT   \n",
       "2           LOTT  Unknown        M  ...          71  105115011      LOTT   \n",
       "3        DASCHLE  Unknown        M  ...         177  105112401   DASCHLE   \n",
       "4           LOTT  Unknown        M  ...           9  105115011      LOTT   \n",
       "...          ...      ...      ...  ...         ...        ...       ...   \n",
       "139772    DEWINE  Unknown        M  ...          44  105112971    DEWINE   \n",
       "139773    DEWINE  Unknown        M  ...          22  105112971    DEWINE   \n",
       "139774  DOMENICI  Unknown        M  ...         628  105113601  DOMENICI   \n",
       "139775    DEWINE  Unknown        M  ...         176  105112971    DEWINE   \n",
       "139776    DEWINE  Unknown        M  ...          22  105112971    DEWINE   \n",
       "\n",
       "        firstname  chamber_y  state_y gender_y party district nonvoting  \n",
       "0           TRENT          S       MS        M     R      NaN    voting  \n",
       "1           TRENT          S       MS        M     R      NaN    voting  \n",
       "2           TRENT          S       MS        M     R      NaN    voting  \n",
       "3          THOMAS          S       SD        M     D      NaN    voting  \n",
       "4           TRENT          S       MS        M     R      NaN    voting  \n",
       "...           ...        ...      ...      ...   ...      ...       ...  \n",
       "139772    MICHAEL          S       OH        M     R      NaN    voting  \n",
       "139773    MICHAEL          S       OH        M     R      NaN    voting  \n",
       "139774       PETE          S       NM        M     R      NaN    voting  \n",
       "139775    MICHAEL          S       OH        M     R      NaN    voting  \n",
       "139776    MICHAEL          S       OH        M     R      NaN    voting  \n",
       "\n",
       "[66512 rows x 24 columns]"
      ]
     },
     "execution_count": 151,
     "metadata": {},
     "output_type": "execute_result"
    }
   ],
   "source": [
    "senate_df"
   ]
  },
  {
   "cell_type": "code",
   "execution_count": null,
   "metadata": {},
   "outputs": [],
   "source": []
  }
 ],
 "metadata": {
  "colab": {
   "authorship_tag": "ABX9TyNj55hAmX9mpGm8R2MVJrRx",
   "collapsed_sections": [],
   "machine_shape": "hm",
   "provenance": []
  },
  "kernelspec": {
   "display_name": "Python 3 (ipykernel)",
   "language": "python",
   "name": "python3"
  },
  "language_info": {
   "codemirror_mode": {
    "name": "ipython",
    "version": 3
   },
   "file_extension": ".py",
   "mimetype": "text/x-python",
   "name": "python",
   "nbconvert_exporter": "python",
   "pygments_lexer": "ipython3",
   "version": "3.9.7"
  }
 },
 "nbformat": 4,
 "nbformat_minor": 1
}
